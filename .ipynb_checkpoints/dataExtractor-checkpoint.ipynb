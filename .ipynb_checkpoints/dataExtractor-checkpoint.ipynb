{
 "cells": [
  {
   "cell_type": "code",
   "execution_count": 140,
   "metadata": {
    "collapsed": false
   },
   "outputs": [],
   "source": [
    "%matplotlib inline\n",
    "import os, sys\n",
    "import numpy as np\n",
    "import pandas as pd\n",
    "import matplotlib.pyplot as plt\n",
    "from ipywidgets import interact, interactive, fixed, widgets\n",
    "from NotebookUtils.ProgressBar import LogProgress as LP\n",
    "plt.rcParams['font.family']='serif'\n",
    "plt.rcParams['font.weight']='light'\n",
    "plt.rcParams['font.size']=14\n",
    "figsize = (12,6)\n",
    "dataDir = '/Users/sdporzio/Data/Accento/'\n",
    "\n",
    "from bs4 import BeautifulSoup\n",
    "import requests"
   ]
  },
  {
   "cell_type": "code",
   "execution_count": 141,
   "metadata": {
    "collapsed": false
   },
   "outputs": [],
   "source": [
    "urlHome = 'http://accent.gmu.edu/'\n",
    "\n",
    "def CheckOrCreateDir(path):\n",
    "    if not os.path.isdir(path):\n",
    "        os.makedirs(path)\n",
    "\n",
    "def GetSoup(url):\n",
    "    html = requests.get(url).text\n",
    "    soup = BeautifulSoup(html, 'html5lib')\n",
    "    return soup\n",
    "\n",
    "def GetLanguageURL(language):\n",
    "    url = urlHome + 'browse_language.php?function=find&language=%s' %language\n",
    "    return url\n",
    "\n",
    "def GetSpeakerURL(language):\n",
    "    url = GetLanguageURL(language)\n",
    "    soup = GetSoup(url)\n",
    "    p_v = soup.find_all('p')[1:] # First p is number of results\n",
    "    href_v = []\n",
    "    for p in p_v:\n",
    "        href = urlHome+p.find('a').get('href')\n",
    "        href_v.append(href)\n",
    "    return href_v\n",
    "\n",
    "def GetSpeakerAudioURL(url):\n",
    "    soup = GetSoup(url)\n",
    "    href = soup.find_all('source')[0].get('src').replace('http://chnm.gmu.edu/accent/','http://accent.gmu.edu/')\n",
    "    return href\n",
    "\n",
    "def GetSpeakerMetadata(url):\n",
    "    soup = GetSoup(url)\n",
    "    li_v = soup.find_all('li')\n",
    "    liPlus_v = [li for li in li_v if li.find('em')]\n",
    "    info = {}\n",
    "    info['id'] = url.split('=')[2]\n",
    "    for li in liPlus_v:\n",
    "        key = str(li.contents[0].text.replace(':',''))\n",
    "        value = str(li.contents[1])\n",
    "        if key == \"other language(s) \":\n",
    "            key = 'other languages'\n",
    "            value = value.split()\n",
    "        if key == 'length of english residence':\n",
    "            value = value.replace(' years','')\n",
    "        if key == 'age, sex':\n",
    "            value = value.split()\n",
    "            info['age'] = value[0].replace(',','')\n",
    "            info['sex'] = value[1]\n",
    "        else:\n",
    "            info[key] = value\n",
    "    return info\n",
    "\n",
    "def DownloadCompleteData(nFile,language):\n",
    "    path = dataDir+language.capitalize()+'/'\n",
    "    CheckOrCreateDir(path)\n",
    "    url = GetSpeakerURL(language)\n",
    "    if nFile == 0:\n",
    "        nFile = len(url)\n",
    "    for i in LP(range(nFile)):\n",
    "        info = pd.Series(GetSpeakerMetadata(url[i]))\n",
    "\n",
    "        outFile = path+language+info['id']+'.json'\n",
    "        info.to_json(outFile)\n",
    "\n",
    "        outFile = path+language+info['id']+'.mp3'\n",
    "        audioUrl = GetSpeakerAudioURL(url[i])\n",
    "        os.system(\"curl '%s' -o '%s'\" %(audioUrl,outFile))"
   ]
  },
  {
   "cell_type": "code",
   "execution_count": 143,
   "metadata": {
    "collapsed": false
   },
   "outputs": [],
   "source": [
    "languages = ['russian','german','spanish','french']\n",
    "for lang in languages:\n",
    "    DownloadCompleteData(0,lang)"
   ]
  },
  {
   "cell_type": "code",
   "execution_count": null,
   "metadata": {
    "collapsed": true
   },
   "outputs": [],
   "source": []
  }
 ],
 "metadata": {
  "kernelspec": {
   "display_name": "Python 2",
   "language": "python",
   "name": "python2"
  },
  "language_info": {
   "codemirror_mode": {
    "name": "ipython",
    "version": 2
   },
   "file_extension": ".py",
   "mimetype": "text/x-python",
   "name": "python",
   "nbconvert_exporter": "python",
   "pygments_lexer": "ipython2",
   "version": "2.7.10"
  }
 },
 "nbformat": 4,
 "nbformat_minor": 0
}
